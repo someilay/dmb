{
 "cells": [
  {
   "cell_type": "markdown",
   "id": "a3241197",
   "metadata": {},
   "source": [
    "# Depth Estimation Research Colab Notebook\n",
    "## Автор: Кирилина Антон, Милёшин Илья, Корнаев Алексей\n",
    "\n",
    "### Основной ноутбук для запуска экспериментов по сравнению моделей depth estimation."
   ]
  },
  {
   "cell_type": "code",
   "execution_count": null,
   "id": "7dd51dd6",
   "metadata": {},
   "outputs": [],
   "source": [
    "# Установка необходимых библиотек\n",
    "!pip install torch torchvision timm opencv-python matplotlib numpy tqdm --quiet\n"
   ]
  },
  {
   "cell_type": "code",
   "execution_count": null,
   "id": "fd54d364",
   "metadata": {},
   "outputs": [],
   "source": [
    "# Импорты\n",
    "import torch\n",
    "import torchvision.transforms as T\n",
    "import matplotlib.pyplot as plt\n",
    "from PIL import Image\n",
    "import numpy as np\n",
    "import requests\n",
    "from io import BytesIO\n",
    "from tqdm import tqdm\n",
    "import os\n"
   ]
  },
  {
   "cell_type": "markdown",
   "id": "fdfb22db",
   "metadata": {},
   "source": [
    "## Загрузка моделей"
   ]
  },
  {
   "cell_type": "code",
   "execution_count": null,
   "id": "77cd7e39",
   "metadata": {},
   "outputs": [],
   "source": [
    "device = torch.device('cuda' if torch.cuda.is_available() else 'cpu')\n",
    "\n",
    "midas = torch.hub.load('intel-isl/MiDaS', 'MiDaS_small')\n",
    "midas_transforms = torch.hub.load('intel-isl/MiDaS', 'transforms')\n",
    "\n",
    "midas.to(device)\n",
    "midas.eval()\n"
   ]
  },
  {
   "cell_type": "markdown",
   "id": "cdfd135d",
   "metadata": {},
   "source": [
    "## Функция инференса depth карты"
   ]
  },
  {
   "cell_type": "code",
   "execution_count": null,
   "id": "2cb09483",
   "metadata": {},
   "outputs": [],
   "source": [
    "def estimate_depth(image): \n",
    "    transform = midas_transforms.small_transform\n",
    "    input_batch = transform(image).to(device)\n",
    "\n",
    "    with torch.no_grad():\n",
    "        prediction = midas(input_batch)\n",
    "        prediction = torch.nn.functional.interpolate(\n",
    "            prediction.unsqueeze(1),\n",
    "            size=image.size[::-1],\n",
    "            mode='bicubic',\n",
    "            align_corners=False,\n",
    "        ).squeeze()\n",
    "\n",
    "    return prediction.cpu().numpy()\n"
   ]
  },
  {
   "cell_type": "markdown",
   "id": "59f44a8f",
   "metadata": {},
   "source": [
    "## Демонстрация на одной картинке"
   ]
  },
  {
   "cell_type": "code",
   "execution_count": null,
   "id": "52e896f1",
   "metadata": {},
   "outputs": [],
   "source": [
    "url = \"https://raw.githubusercontent.com/intel-isl/MiDaS/master/examples/input.jpg\"\n",
    "response = requests.get(url)\n",
    "img = Image.open(BytesIO(response.content)).convert(\"RGB\")\n",
    "\n",
    "depth_map = estimate_depth(img)\n",
    "\n",
    "plt.figure(figsize=(10,5))\n",
    "plt.subplot(1,2,1)\n",
    "plt.imshow(img)\n",
    "plt.title('Image')\n",
    "plt.axis('off')\n",
    "\n",
    "plt.subplot(1,2,2)\n",
    "plt.imshow(depth_map, cmap='inferno')\n",
    "plt.title('Depth Map')\n",
    "plt.axis('off')\n",
    "plt.show()\n"
   ]
  },
  {
   "cell_type": "markdown",
   "id": "82dd3153",
   "metadata": {},
   "source": [
    "## Загрузка NYU Depth v2 датасета (семпл)"
   ]
  },
  {
   "cell_type": "code",
   "execution_count": null,
   "id": "f7b014f4",
   "metadata": {},
   "outputs": [],
   "source": [
    "!wget -q https://data.vision.ee.ethz.ch/kmaninis/share/nyu_data.zip -O nyu_data.zip\n",
    "!unzip -q nyu_data.zip -d nyu_data && rm nyu_data.zip\n"
   ]
  },
  {
   "cell_type": "markdown",
   "id": "4ea25f14",
   "metadata": {},
   "source": [
    "## Инференс на нескольких изображениях из датасета"
   ]
  },
  {
   "cell_type": "code",
   "execution_count": null,
   "id": "621626ac",
   "metadata": {},
   "outputs": [],
   "source": [
    "nyu_dir = 'nyu_data/images'\n",
    "files = sorted(os.listdir(nyu_dir))[:5]\n",
    "\n",
    "for filename in tqdm(files):\n",
    "    path = os.path.join(nyu_dir, filename)\n",
    "    img = Image.open(path).convert('RGB')\n",
    "    depth_map = estimate_depth(img)\n",
    "    \n",
    "    plt.figure(figsize=(10,5))\n",
    "    plt.subplot(1,2,1)\n",
    "    plt.imshow(img)\n",
    "    plt.title('Image')\n",
    "    plt.axis('off')\n",
    "\n",
    "    plt.subplot(1,2,2)\n",
    "    plt.imshow(depth_map, cmap='inferno')\n",
    "    plt.title('Depth Map')\n",
    "    plt.axis('off')\n",
    "    plt.show()\n"
   ]
  }
 ],
 "metadata": {},
 "nbformat": 4,
 "nbformat_minor": 5
}
